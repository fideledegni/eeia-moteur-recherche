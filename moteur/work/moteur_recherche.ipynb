{
 "cells": [
  {
   "cell_type": "code",
   "execution_count": 20,
   "source": [
    "import pandas as pd\n",
    "from random import shuffle\n",
    "\n",
    "articles_df = pd.read_csv('./test_data/liste_des_articles.csv')\n",
    "searches_df = pd.read_csv('./test_data/liste_des_recherches.csv')\n",
    "articles_df.fillna(\"\", inplace=True)\n",
    "searches_df.fillna(\"\", inplace=True)\n",
    "\n",
    "def get_elem_from_serie(line, titles):\n",
    "  res = {}\n",
    "  for key in titles: res[key] = line[key]\n",
    "  return res"
   ],
   "outputs": [],
   "metadata": {}
  },
  {
   "cell_type": "code",
   "execution_count": 21,
   "source": [
    "\n",
    "article_titles = [\"id\", \"name\", \"description\"]\n",
    "articles_list = [get_elem_from_serie(line, article_titles) for (_, line) in articles_df.iterrows()]\n",
    "# articles_list"
   ],
   "outputs": [],
   "metadata": {}
  },
  {
   "cell_type": "code",
   "execution_count": 26,
   "source": [
    "\n",
    "searches_titles = [\"id\", \"search_text\", \"search_date\", \"clicked_article_1\", \"clicked_article_2\", \"clicked_article_3\"]\n",
    "searches_list = [get_elem_from_serie(line, searches_titles) for (_, line) in searches_df.iterrows() if line[\"clicked_article_1\"]]\n",
    "searches_list"
   ],
   "outputs": [
    {
     "output_type": "execute_result",
     "data": {
      "text/plain": [
       "[{'id': 91,\n",
       "  'search_text': 'soja',\n",
       "  'search_date': '2021-08-10 07:56:00.621380+00:00',\n",
       "  'clicked_article_1': 'Télévision LG OLED',\n",
       "  'clicked_article_2': '',\n",
       "  'clicked_article_3': ''},\n",
       " {'id': 83,\n",
       "  'search_text': 'casque',\n",
       "  'search_date': '2021-08-10 07:50:37.331859+00:00',\n",
       "  'clicked_article_1': 'Farine de Soja',\n",
       "  'clicked_article_2': 'CHARGEUR adaptateur secteur pour Toshiba Satellite A600 A660 A665 A80 C645 C645D C650',\n",
       "  'clicked_article_3': ''},\n",
       " {'id': 82,\n",
       "  'search_text': 'tv',\n",
       "  'search_date': '2021-08-10 07:50:23.962617+00:00',\n",
       "  'clicked_article_1': \"TOSHIBA 50UL3B63DG TV LED UHD 4K - 5' (126 cm) - Smart TV - Bluetooth - 4 x HDMI - 2 X USB\",\n",
       "  'clicked_article_2': 'Cable HDMI pour TV',\n",
       "  'clicked_article_3': 'Meuble TV'},\n",
       " {'id': 52,\n",
       "  'search_text': 'samsung',\n",
       "  'search_date': '2021-08-09 16:12:06.915893+00:00',\n",
       "  'clicked_article_1': 'Téléphone Samsung Galaxy Note 20 Ultra 5G',\n",
       "  'clicked_article_2': '',\n",
       "  'clicked_article_3': ''},\n",
       " {'id': 34,\n",
       "  'search_text': 'tv',\n",
       "  'search_date': '2021-08-09 07:24:09.389501+00:00',\n",
       "  'clicked_article_1': \"TOSHIBA 50UL3B63DG TV LED UHD 4K - 5' (126 cm) - Smart TV - Bluetooth - 4 x HDMI - 2 X USB\",\n",
       "  'clicked_article_2': '',\n",
       "  'clicked_article_3': ''},\n",
       " {'id': 33,\n",
       "  'search_text': 'casque',\n",
       "  'search_date': '2021-08-09 06:23:10.828459+00:00',\n",
       "  'clicked_article_1': 'Casque Beats Rouge',\n",
       "  'clicked_article_2': 'Casque Beats Noir',\n",
       "  'clicked_article_3': 'Casque JBL Consumer Rouge'},\n",
       " {'id': 32,\n",
       "  'search_text': 'apple',\n",
       "  'search_date': '2021-08-09 01:23:33.762427+00:00',\n",
       "  'clicked_article_1': 'Apple iPhone 7 32Go Noir',\n",
       "  'clicked_article_2': '',\n",
       "  'clicked_article_3': ''},\n",
       " {'id': 31,\n",
       "  'search_text': 'tv',\n",
       "  'search_date': '2021-08-09 00:29:06.581973+00:00',\n",
       "  'clicked_article_1': \"TOSHIBA 50UL3B63DG TV LED UHD 4K - 5' (126 cm) - Smart TV - Bluetooth - 4 x HDMI - 2 X USB\",\n",
       "  'clicked_article_2': 'Farine de Soja',\n",
       "  'clicked_article_3': ''},\n",
       " {'id': 30,\n",
       "  'search_text': 'ventilo',\n",
       "  'search_date': '2021-08-08 23:44:24.801084+00:00',\n",
       "  'clicked_article_1': 'Télécommande TV',\n",
       "  'clicked_article_2': '',\n",
       "  'clicked_article_3': ''},\n",
       " {'id': 25,\n",
       "  'search_text': 'tv',\n",
       "  'search_date': '2021-08-08 23:41:24.729237+00:00',\n",
       "  'clicked_article_1': 'Réfrigérateur congélateur bas',\n",
       "  'clicked_article_2': '',\n",
       "  'clicked_article_3': ''}]"
      ]
     },
     "metadata": {},
     "execution_count": 26
    }
   ],
   "metadata": {}
  },
  {
   "cell_type": "code",
   "execution_count": 24,
   "source": [
    "def default_model(text, articles_list, searches_list):\n",
    "  def ranker(article):\n",
    "    name = article['name']\n",
    "    found = text in name\n",
    "    return found\n",
    "  # shuffle(articles_list)\n",
    "  # return sorted(articles_list, key=ranker, reverse=True)\n",
    "\n",
    "  return list(filter(ranker, articles_list))"
   ],
   "outputs": [],
   "metadata": {}
  },
  {
   "cell_type": "code",
   "execution_count": 25,
   "source": [
    "search_result = default_model(\"TV\", articles_list, searches_list)\n",
    "\n",
    "search_result\n",
    "# print(\"search_result[0]: \", search_result[0])\n",
    "# print(\"search_result[1]: \", search_result[1])\n",
    "# print(\"search_result[2]: \", search_result[2])"
   ],
   "outputs": [
    {
     "output_type": "execute_result",
     "data": {
      "text/plain": [
       "[{'id': 120,\n",
       "  'name': 'Cable HDMI pour TV',\n",
       "  'description': 'mini HDMI to HDMI Cable, 6ft (~2m) – Simply NUC'},\n",
       " {'id': 121,\n",
       "  'name': 'Meuble TV',\n",
       "  'description': 'Meuble TV ADDISON , chêne clair'},\n",
       " {'id': 96,\n",
       "  'name': \"TCL 65QLED790 - TV QLED UHD 4K - 65' (165cm) - Dolby\",\n",
       "  'description': \"Format d'affichage : 4K UHD (2160p) - Résolution : 3840 x 2160 - Tuner TV numérique : DVB-C, DVB-S2, DVB-T2\"},\n",
       " {'id': 97,\n",
       "  'name': \"TOSHIBA 50UL3B63DG TV LED UHD 4K - 5' (126 cm) - Smart TV - Bluetooth - 4 x HDMI - 2 X USB\",\n",
       "  'description': \"Format d'affichage : 4K UHD (2160p) - Résolution : 3840 x 2160 - Tuner TV numérique : DVB-C, DVB-S, DVB-S2, DVB-T, DVB-T2\"},\n",
       " {'id': 119,\n",
       "  'name': 'Télécommande TV',\n",
       "  'description': 'Télécommande universelle 12 en 1 HDEO Multi fonction DVD,TV,SAT,VCR'}]"
      ]
     },
     "metadata": {},
     "execution_count": 25
    }
   ],
   "metadata": {}
  },
  {
   "cell_type": "code",
   "execution_count": 37,
   "source": [
    "def get_article_freq_for_text(text, article, searches_list):\n",
    "  def isin(s):\n",
    "    return s[\"search_text\"] == text\n",
    "  searches_with_text = list(filter(isin, searches_list))\n",
    "  n = len(searches_with_text)\n",
    "  if n == 0:\n",
    "    # TODO Instead of returning 0, find the nearest text and use it\n",
    "    return 0\n",
    "  def has_article(s):\n",
    "    return s[\"clicked_article_1\"] == article[\"name\"]\n",
    "  searches_with_text_with_article = list(filter(has_article, searches_with_text))\n",
    "  return len(searches_with_text_with_article) / n\n",
    "\n",
    "def learn_model(text, articles_list, searches_list):\n",
    "  def ranker(article):\n",
    "    f = get_article_freq_for_text(text, article, searches_list)\n",
    "    if f > 0: article['is_concerned'] = 1\n",
    "    # return f > 0\n",
    "    return f\n",
    "  shuffle(articles_list)\n",
    "  return sorted(articles_list, key=ranker, reverse=True)\n",
    "  # return list(filter(ranker, articles_list))\n",
    "\n",
    "  # freq = [get_article_freq_for_text(text, article, searches_list) for article in articles_list]\n",
    "  # return freq"
   ],
   "outputs": [],
   "metadata": {}
  },
  {
   "cell_type": "code",
   "execution_count": 40,
   "source": [
    "l_search_result = learn_model(\"tv\", articles_list, searches_list)\n",
    "\n",
    "l_search_result\n",
    "# print(\"l_search_result[0]: \", l_search_result[0])\n",
    "# print(\"l_search_result[1]: \", l_search_result[1])\n",
    "# print(\"l_search_result[2]: \", l_search_result[2])"
   ],
   "outputs": [
    {
     "output_type": "execute_result",
     "data": {
      "text/plain": [
       "[{'id': 97,\n",
       "  'name': \"TOSHIBA 50UL3B63DG TV LED UHD 4K - 5' (126 cm) - Smart TV - Bluetooth - 4 x HDMI - 2 X USB\",\n",
       "  'description': \"Format d'affichage : 4K UHD (2160p) - Résolution : 3840 x 2160 - Tuner TV numérique : DVB-C, DVB-S, DVB-S2, DVB-T, DVB-T2\",\n",
       "  'is_concerned': 1},\n",
       " {'id': 89,\n",
       "  'name': 'Réfrigérateur congélateur bas',\n",
       "  'description': '',\n",
       "  'is_concerned': 1},\n",
       " {'id': 119,\n",
       "  'name': 'Télécommande TV',\n",
       "  'description': 'Télécommande universelle 12 en 1 HDEO Multi fonction DVD,TV,SAT,VCR'},\n",
       " {'id': 91,\n",
       "  'name': 'Manette PS4',\n",
       "  'description': 'Dual Shock 4.0 V2 JetBlack - PlayStation Officiel'},\n",
       " {'id': 106, 'name': 'Casque Pionner Noir', 'description': ''},\n",
       " {'id': 121,\n",
       "  'name': 'Meuble TV',\n",
       "  'description': 'Meuble TV ADDISON , chêne clair'},\n",
       " {'id': 117, 'name': 'Ventilateur Design Blanc', 'description': ''},\n",
       " {'id': 87, 'name': 'Lave vaisselle', 'description': ''},\n",
       " {'id': 118, 'name': 'Ventilateur Design Bois', 'description': ''},\n",
       " {'id': 111, 'name': 'Téléphone Xiaomi Mi 10T', 'description': ''},\n",
       " {'id': 98,\n",
       "  'name': 'PC Portable Ultrabook - LENOVO',\n",
       "  'description': \"RAM : 4 Go (1 x 4 Go) - Stockage principal : 128 Go SSD M.2 2242 PCIe 3.0 x2 - NVM Express (NVMe) - Système d'exploitation : Windows 10 Home in S mode - français - Poids : 1.85 kg \"},\n",
       " {'id': 102, 'name': 'Casque Beats Noir', 'description': ''},\n",
       " {'id': 101,\n",
       "  'name': 'CHARGEUR adaptateur secteur pour Toshiba Satellite A600 A660 A665 A80 C645 C645D C650',\n",
       "  'description': 'Sortie de tension: 19V - 4,74A - 90W . Taille de la prise: Embout : 5.5mm x 2.5mm Modèles compatibles : ASUS , Toshiba Tecra , Toshiba Satellite , PACKARD BELL IPOWER , MEDION'},\n",
       " {'id': 88, 'name': 'Four électrique', 'description': ''},\n",
       " {'id': 115, 'name': 'Ventilateur Classique Blanc', 'description': ''},\n",
       " {'id': 120,\n",
       "  'name': 'Cable HDMI pour TV',\n",
       "  'description': 'mini HDMI to HDMI Cable, 6ft (~2m) – Simply NUC'},\n",
       " {'id': 90,\n",
       "  'name': 'Disque dur externe TOSHIBA',\n",
       "  'description': 'Canvio basics 1To - USB 3.0'},\n",
       " {'id': 104, 'name': 'Casque JBL Consumer Rouge', 'description': ''},\n",
       " {'id': 99,\n",
       "  'name': 'PC Portable - ACER Aspire 5 - A514-53',\n",
       "  'description': \"RAM : 8 Go (1 x 4 Go + 4 Go (soudé)) - Stockage principal : 256 Go SSD - SanDisk - Système d'exploitation : Edition Windows 10 Home 64 bits en mode S - Poids : 1.7 kg \"},\n",
       " {'id': 114, 'name': 'Télévision LG OLED', 'description': ''},\n",
       " {'id': 94,\n",
       "  'name': 'Tapis de course pliable Mixte J01F',\n",
       "  'description': 'Motorisé 10 - JDM SPORTS'},\n",
       " {'id': 96,\n",
       "  'name': \"TCL 65QLED790 - TV QLED UHD 4K - 65' (165cm) - Dolby\",\n",
       "  'description': \"Format d'affichage : 4K UHD (2160p) - Résolution : 3840 x 2160 - Tuner TV numérique : DVB-C, DVB-S2, DVB-T2\"},\n",
       " {'id': 100,\n",
       "  'name': 'Ordinateur portable TOSHIBA Portégé',\n",
       "  'description': \"RAM : 4 Go (1 x 2 Go + 2 Go (soudé)) - Stockage principal : 128 Go SSD SATA 3Gb/s - Système d'exploitation : Microsoft Windows 7 Professionnel Edition 64 bits - Poids : 1.12 kg\"},\n",
       " {'id': 109,\n",
       "  'name': 'Téléphone Samsung Galaxy Note 20 Ultra 5G',\n",
       "  'description': ''},\n",
       " {'id': 113, 'name': 'Télévision LG Nanocell', 'description': ''},\n",
       " {'id': 92,\n",
       "  'name': 'Apple iPhone 7 32Go Noir',\n",
       "  'description': 'Reconditionné - Excellent état'},\n",
       " {'id': 108, 'name': 'Farine de Soja', 'description': ''},\n",
       " {'id': 105, 'name': 'Casque JBL Tune Noir', 'description': ''},\n",
       " {'id': 93,\n",
       "  'name': 'Sèche linge à condensation connecté',\n",
       "  'description': 'CANDY CSC9DE-47-9'},\n",
       " {'id': 116, 'name': 'Ventilateur Connecté', 'description': ''},\n",
       " {'id': 112, 'name': 'Téléphone Xiaomi Mi 11 5G', 'description': ''},\n",
       " {'id': 95,\n",
       "  'name': 'Rasoir/Tondeuse électrique',\n",
       "  'description': 'PHILIPS S5400/06'},\n",
       " {'id': 107, 'name': 'Casque Sony Noir', 'description': ''},\n",
       " {'id': 103, 'name': 'Casque Beats Rouge', 'description': ''},\n",
       " {'id': 110, 'name': 'Téléphone Samsung Galaxy S20 FE', 'description': ''}]"
      ]
     },
     "metadata": {},
     "execution_count": 40
    }
   ],
   "metadata": {}
  }
 ],
 "metadata": {
  "orig_nbformat": 4,
  "language_info": {
   "name": "python",
   "version": "3.8.10",
   "mimetype": "text/x-python",
   "codemirror_mode": {
    "name": "ipython",
    "version": 3
   },
   "pygments_lexer": "ipython3",
   "nbconvert_exporter": "python",
   "file_extension": ".py"
  },
  "kernelspec": {
   "name": "python3",
   "display_name": "Python 3.8.10 64-bit ('eeia': virtualenv)"
  },
  "interpreter": {
   "hash": "c935baad5f00b49710945cf4195fd7e8fa5b7ddd9950308969ba1ad1184fa66e"
  }
 },
 "nbformat": 4,
 "nbformat_minor": 2
}